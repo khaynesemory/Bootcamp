{
 "cells": [
  {
   "cell_type": "markdown",
   "metadata": {},
   "source": [
    "# 3. Control Structures"
   ]
  },
  {
   "cell_type": "markdown",
   "metadata": {},
   "source": [
    "### A comment on comments"
   ]
  },
  {
   "cell_type": "code",
   "execution_count": 6,
   "metadata": {},
   "outputs": [
    {
     "name": "stdout",
     "output_type": "stream",
     "text": [
      "Hello, World\n"
     ]
    }
   ],
   "source": [
    "#  This is a Python comment\n",
    "#   <- Everything that follows this ('#') on a line is ignored by the interpreter\n",
    "#\n",
    "#  Liberal use of comments in a program is essential for readability. \n",
    "#\n",
    "print (\"Hello, World\")  # They can even co-exist on lines with executable code"
   ]
  },
  {
   "cell_type": "markdown",
   "metadata": {},
   "source": [
    "## If/else Conditional statements"
   ]
  },
  {
   "cell_type": "code",
   "execution_count": 7,
   "metadata": {},
   "outputs": [],
   "source": [
    "furry = True"
   ]
  },
  {
   "cell_type": "code",
   "execution_count": 8,
   "metadata": {},
   "outputs": [],
   "source": [
    "small = True"
   ]
  },
  {
   "cell_type": "code",
   "execution_count": 13,
   "metadata": {},
   "outputs": [
    {
     "data": {
      "text/plain": [
       "True"
      ]
     },
     "execution_count": 13,
     "metadata": {},
     "output_type": "execute_result"
    }
   ],
   "source": [
    "small & furry    # logical operator '&' (\"and\")"
   ]
  },
  {
   "cell_type": "code",
   "execution_count": 14,
   "metadata": {},
   "outputs": [
    {
     "name": "stdout",
     "output_type": "stream",
     "text": [
      "It must be a rabbit!\n"
     ]
    }
   ],
   "source": [
    "if small & furry:\n",
    "    print(\"It must be a rabbit!\")"
   ]
  },
  {
   "cell_type": "code",
   "execution_count": 21,
   "metadata": {},
   "outputs": [
    {
     "name": "stdout",
     "output_type": "stream",
     "text": [
      "It could be a bear!\n"
     ]
    }
   ],
   "source": [
    "if (not small) and furry:\n",
    "    print(\"It must be a rabbit!\")\n",
    "else:\n",
    "    print(\"It could be a bear!\")"
   ]
  },
  {
   "cell_type": "code",
   "execution_count": 36,
   "metadata": {},
   "outputs": [
    {
     "name": "stdout",
     "output_type": "stream",
     "text": [
      "It must be a rabbit!\n"
     ]
    }
   ],
   "source": [
    "if small and furry:\n",
    "    print(\"It must be a rabbit!\")\n",
    "elif (not small) and furry:\n",
    "    print(\"It could be a bear!\")\n",
    "else:\n",
    "    print(\"I have no idea what that is.\")"
   ]
  },
  {
   "cell_type": "markdown",
   "metadata": {},
   "source": [
    "## While loops"
   ]
  },
  {
   "cell_type": "code",
   "execution_count": 26,
   "metadata": {},
   "outputs": [
    {
     "name": "stdout",
     "output_type": "stream",
     "text": [
      "10\n",
      "8\n",
      "6\n",
      "4\n",
      "2\n"
     ]
    }
   ],
   "source": [
    "x = 10\n",
    "while x > 0:\n",
    "    if x %2 == 0:    # modulus operator\n",
    "        print(x)\n",
    "    x -= 1            # short-hand for x = x -1\n",
    "    \n"
   ]
  },
  {
   "cell_type": "code",
   "execution_count": 2,
   "metadata": {},
   "outputs": [
    {
     "name": "stdout",
     "output_type": "stream",
     "text": [
      "Enter a word: Cheese\n",
      "eseehC\n",
      "Enter a word: nice\n",
      "ecin\n",
      "Enter a word: quit\n",
      "Exiting...\n"
     ]
    }
   ],
   "source": [
    "while True:\n",
    "    word = input(\"Enter a word: \")\n",
    "    if word == \"quit\":\n",
    "        print(\"Exiting...\")\n",
    "        break\n",
    "    print(word[::-1])"
   ]
  },
  {
   "cell_type": "markdown",
   "metadata": {},
   "source": [
    "## for loops"
   ]
  },
  {
   "cell_type": "code",
   "execution_count": 28,
   "metadata": {},
   "outputs": [
    {
     "name": "stdout",
     "output_type": "stream",
     "text": [
      "Value is  1\n",
      "Value is  2\n",
      "Value is  None\n",
      "Value is  4\n",
      "Value is  None\n",
      "Value is  6\n",
      "Total is  13\n"
     ]
    }
   ],
   "source": [
    "sequence = [1, 2, None, 4, None, 6]\n",
    "total = 0\n",
    "for value in sequence:\n",
    "    print(\"Value is \", value)\n",
    "    if value is None:\n",
    "        continue\n",
    "    total += value\n",
    "print(\"Total is \", total)"
   ]
  },
  {
   "cell_type": "code",
   "execution_count": 29,
   "metadata": {},
   "outputs": [
    {
     "name": "stdout",
     "output_type": "stream",
     "text": [
      "s\n",
      "t\n",
      "r\n",
      "i\n",
      "n\n",
      "g\n"
     ]
    }
   ],
   "source": [
    "for char in \"string\":\n",
    "    print(char)"
   ]
  },
  {
   "cell_type": "code",
   "execution_count": 33,
   "metadata": {},
   "outputs": [
    {
     "name": "stdout",
     "output_type": "stream",
     "text": [
      "2 to the  0 -th power is 1\n",
      "2 to the  1 -th power is 2\n",
      "2 to the  2 -th power is 4\n",
      "2 to the  3 -th power is 8\n",
      "2 to the  4 -th power is 16\n"
     ]
    }
   ],
   "source": [
    "for i in range(5):\n",
    "    print(\"2 to the \", i, \"-th power is\", 2**i)"
   ]
  },
  {
   "cell_type": "code",
   "execution_count": 34,
   "metadata": {},
   "outputs": [
    {
     "name": "stdout",
     "output_type": "stream",
     "text": [
      "1\n",
      "2\n",
      "None\n",
      "4\n",
      "None\n",
      "6\n"
     ]
    }
   ],
   "source": [
    "for i in range(len(sequence)):   \n",
    "    print(sequence[i])"
   ]
  },
  {
   "cell_type": "markdown",
   "metadata": {},
   "source": [
    "### Comprehensions - a Pythonic shortcut for for-loops"
   ]
  },
  {
   "cell_type": "code",
   "execution_count": 43,
   "metadata": {},
   "outputs": [],
   "source": [
    "squares = [ i**2 for i in range(10)]      #  a list comprehension"
   ]
  },
  {
   "cell_type": "code",
   "execution_count": 44,
   "metadata": {},
   "outputs": [
    {
     "data": {
      "text/plain": [
       "[0, 1, 4, 9, 16, 25, 36, 49, 64, 81]"
      ]
     },
     "execution_count": 44,
     "metadata": {},
     "output_type": "execute_result"
    }
   ],
   "source": [
    "squares"
   ]
  },
  {
   "cell_type": "code",
   "execution_count": 46,
   "metadata": {},
   "outputs": [],
   "source": [
    "import numpy as np                       #  a library needed to generate random numbers"
   ]
  },
  {
   "cell_type": "code",
   "execution_count": 45,
   "metadata": {},
   "outputs": [],
   "source": [
    "data = {i: np.random.randn() for i in range(10)}   # a dictionary comprehension"
   ]
  },
  {
   "cell_type": "code",
   "execution_count": 39,
   "metadata": {},
   "outputs": [
    {
     "data": {
      "text/plain": [
       "{0: -1.6023806331103343,\n",
       " 1: 0.34754370435510323,\n",
       " 2: -0.7347314660071144,\n",
       " 3: 0.8665206445602767,\n",
       " 4: -1.464473679496566,\n",
       " 5: -1.4050089747721959,\n",
       " 6: 1.8360388370011198,\n",
       " 7: -0.4245544321928958,\n",
       " 8: 0.7143048264697999,\n",
       " 9: 0.012855072723041188}"
      ]
     },
     "execution_count": 39,
     "metadata": {},
     "output_type": "execute_result"
    }
   ],
   "source": [
    "data"
   ]
  },
  {
   "cell_type": "markdown",
   "metadata": {},
   "source": [
    "### Functions"
   ]
  },
  {
   "cell_type": "code",
   "execution_count": 47,
   "metadata": {},
   "outputs": [],
   "source": [
    "def hello():\n",
    "    print(\"Hello World!!\")"
   ]
  },
  {
   "cell_type": "code",
   "execution_count": 48,
   "metadata": {},
   "outputs": [
    {
     "name": "stdout",
     "output_type": "stream",
     "text": [
      "Hello World!!\n"
     ]
    }
   ],
   "source": [
    "hello()"
   ]
  },
  {
   "cell_type": "code",
   "execution_count": 49,
   "metadata": {},
   "outputs": [],
   "source": [
    "def reverseWord(word):\n",
    "    print(word[::-1])"
   ]
  },
  {
   "cell_type": "code",
   "execution_count": 50,
   "metadata": {},
   "outputs": [
    {
     "name": "stdout",
     "output_type": "stream",
     "text": [
      "esroh\n"
     ]
    }
   ],
   "source": [
    "reverseWord('horse')"
   ]
  },
  {
   "cell_type": "code",
   "execution_count": 51,
   "metadata": {},
   "outputs": [
    {
     "name": "stdout",
     "output_type": "stream",
     "text": [
      "Enter a word: horse\n",
      "esroh\n",
      "Enter a word: cheese\n",
      "eseehc\n",
      "Enter a word: quit\n",
      "Exiting...\n"
     ]
    }
   ],
   "source": [
    "while True:\n",
    "    word = input(\"Enter a word: \")\n",
    "    if word == \"quit\":\n",
    "        print(\"Exiting...\")\n",
    "        break\n",
    "    reverseWord(word)"
   ]
  }
 ],
 "metadata": {
  "kernelspec": {
   "display_name": "Python 3",
   "language": "python",
   "name": "python3"
  },
  "language_info": {
   "codemirror_mode": {
    "name": "ipython",
    "version": 3
   },
   "file_extension": ".py",
   "mimetype": "text/x-python",
   "name": "python",
   "nbconvert_exporter": "python",
   "pygments_lexer": "ipython3",
   "version": "3.6.7"
  }
 },
 "nbformat": 4,
 "nbformat_minor": 2
}
